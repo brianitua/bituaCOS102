{
 "cells": [
  {
   "cell_type": "code",
   "execution_count": null,
   "metadata": {},
   "outputs": [],
   "source": [
    "p = float(input(\"Enter Principal Amount: \"))\n",
    "r = float(input(\"Enter Interest Rate (%): \"))\n",
    "t = float(input(\"Enter Time (years): \"))\n",
    "payment = float(input(\"Enter Annuity Payment: \"))\n",
    "\n",
    "# Simple Interest\n",
    "simple_interest = (p * r * t) / 100\n",
    "print(\"Simple Interest:\", simple_interest)\n",
    "\n",
    "# Compound Interest\n",
    "amount = p * (1 + r / 100) ** t\n",
    "compound_interest = amount - p\n",
    "print(\"Compound Interest:\", compound_interest)\n",
    "\n",
    "# Annuity Plan\n",
    "rate = r / 100  # Convert percentage to decimal\n",
    "annuity_value = payment * (((1 + rate) ** t - 1) / rate)\n",
    "print(\"Annuity Plan:\", annuity_value)"
   ]
  }
 ],
 "metadata": {
  "language_info": {
   "name": "python"
  }
 },
 "nbformat": 4,
 "nbformat_minor": 2
}
