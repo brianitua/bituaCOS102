{
 "cells": [
  {
   "cell_type": "code",
   "execution_count": null,
   "metadata": {},
   "outputs": [],
   "source": [
    "import sympy as sp\n",
    "\n",
    "# Define the variable\n",
    "x = sp.Symbol('x')\n",
    "\n",
    "# Get coefficients from the user\n",
    "A = float(input(\"Enter coefficient A: \"))\n",
    "B = float(input(\"Enter coefficient B: \"))\n",
    "C = float(input(\"Enter coefficient C: \"))\n",
    "\n",
    "# Define the quadratic equation\n",
    "equation = A*x**2 + B*x + C\n",
    "\n",
    "# Solve for x\n",
    "solutions = sp.solve(equation, x)\n",
    "\n",
    "# Display the solutions\n",
    "print(f\"Solutions: {solutions}\")\n"
   ]
  }
 ],
 "metadata": {
  "language_info": {
   "name": "python"
  }
 },
 "nbformat": 4,
 "nbformat_minor": 2
}
