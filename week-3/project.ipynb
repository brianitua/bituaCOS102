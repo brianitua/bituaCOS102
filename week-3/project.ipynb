{
 "cells": [
  {
   "cell_type": "code",
   "execution_count": null,
   "metadata": {},
   "outputs": [],
   "source": [
    "# Get input from user\n",
    "name1 = input(\"Enter first name: \")\n",
    "age1 = int(input(f\"Enter {name1}'s age: \"))\n",
    "\n",
    "name2 = input(\"Enter second name: \")\n",
    "age2 = int(input(f\"Enter {name2}'s age: \"))\n",
    "\n",
    "# Swapping ages\n",
    "age1, age2 = age2, age1\n",
    "\n",
    "# Display output\n",
    "print(f\"{name1} is now {age1} years old.\")\n",
    "print(f\"{name2} is now {age2} years old.\")\n"
   ]
  }
 ],
 "metadata": {
  "language_info": {
   "name": "python"
  }
 },
 "nbformat": 4,
 "nbformat_minor": 2
}
