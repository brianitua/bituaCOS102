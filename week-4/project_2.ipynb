{
 "cells": [
  {
   "cell_type": "code",
   "execution_count": null,
   "metadata": {},
   "outputs": [],
   "source": [
    "def calculate_atr(experience, age):\n",
    "    if experience > 25 and age >= 55:\n",
    "        return 5_600_000\n",
    "    elif experience > 20 and age >= 45:\n",
    "        return 4_480_000\n",
    "    elif experience > 10 and age >= 35:\n",
    "        return 1_500_000\n",
    "    else:\n",
    "        return 550_000\n",
    "\n",
    "# Example usage\n",
    "exp = int(input(\"Enter years of experience: \"))\n",
    "age = int(input(\"Enter age: \"))\n",
    "atr = calculate_atr(exp, age)\n",
    "\n",
    "print(f\"Annual Tax Revenue (ATR) = ₦{atr:,.2f}\")\n"
   ]
  }
 ],
 "metadata": {
  "language_info": {
   "name": "python"
  }
 },
 "nbformat": 4,
 "nbformat_minor": 2
}
