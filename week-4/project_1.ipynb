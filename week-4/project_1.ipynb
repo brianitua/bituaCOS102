{
 "cells": [
  {
   "cell_type": "code",
   "execution_count": 2,
   "metadata": {},
   "outputs": [],
   "source": [
    "from tabulate import tabulate\n",
    "\n",
    "# All students' data\n",
    "names = [\n",
    "    \"Evelyn\", \"Jessica\", \"Somto\", \"Edith\", \"Liza\", \"Madonna\", \"Waje\", \"Tola\", \"Aisha\", \"Latifa\",\n",
    "    \"Chinedu\", \"Liam\", \"Wale\", \"Gbenga\", \"Abiola\", \"Kola\", \"Kunle\", \"George\", \"Thomas\", \"Wesley\"\n",
    "]\n",
    "ages = [\n",
    "    17, 16, 17, 18, 16, 18, 17, 20, 19, 17,\n",
    "    19, 16, 18, 17, 20, 19, 16, 18, 17, 19\n",
    "]\n",
    "heights = [\n",
    "    5.5, 6.0, 5.4, 5.9, 5.6, 5.5, 6.1, 6.0, 5.7, 5.5,\n",
    "    5.7, 5.9, 5.8, 6.1, 5.9, 5.5, 6.1, 5.4, 5.8, 5.7\n",
    "]\n",
    "scores = [\n",
    "    80, 85, 70, 60, 76, 66, 87, 95, 50, 49,\n",
    "    74, 87, 75, 68, 66, 78, 87, 98, 54, 60\n",
    "]\n",
    "\n",
    "# Build list of dictionaries without zip\n",
    "students = []\n",
    "for i in range(len(names)):\n",
    "    student = {\n",
    "        \"Name\": names[i],\n",
    "        \"Age\": ages[i],\n",
    "        \"Height\": heights[i],\n",
    "        \"Score\": scores[i]\n",
    "    }\n",
    "    students.append(student)\n",
    "\n",
    "# Print as table\n",
    "print(tabulate(students, headers=\"keys\", tablefmt=\"grid\"))\n"
   ]
  }
 ],
 "metadata": {
  "kernelspec": {
   "display_name": "Python 3",
   "language": "python",
   "name": "python3"
  },
  "language_info": {
   "codemirror_mode": {
    "name": "ipython",
    "version": 3
   },
   "file_extension": ".py",
   "mimetype": "text/x-python",
   "name": "python",
   "nbconvert_exporter": "python",
   "pygments_lexer": "ipython3",
   "version": "3.12.6"
  }
 },
 "nbformat": 4,
 "nbformat_minor": 2
}
